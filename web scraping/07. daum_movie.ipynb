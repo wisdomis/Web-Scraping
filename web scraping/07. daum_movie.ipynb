{
 "cells": [
  {
   "cell_type": "code",
   "execution_count": 1,
   "metadata": {},
   "outputs": [],
   "source": [
    "import requests\n",
    "from bs4 import BeautifulSoup"
   ]
  },
  {
   "cell_type": "code",
   "execution_count": 3,
   "metadata": {},
   "outputs": [],
   "source": [
    "url = \"https://search.daum.net/search?w=tot&q={}%EB%85%84%EC%98%81%ED%99%94%EC%88%9C%EC%9C%84&DA=MOR&rtmaxcoll=MOR\"\n",
    "res = requests.get(url)\n",
    "res.raise_for_status()"
   ]
  },
  {
   "cell_type": "code",
   "execution_count": 4,
   "metadata": {},
   "outputs": [],
   "source": [
    "soup = BeautifulSoup(res.text, \"lxml\")"
   ]
  },
  {
   "cell_type": "code",
   "execution_count": 10,
   "metadata": {},
   "outputs": [],
   "source": [
    "images = soup.find_all(\"img\", attrs = {\"class\":\"thumb_img\"})\n",
    "\n",
    "for idx, image in enumerate(images):\n",
    "    #print(image[\"src\"])\n",
    "    img_res = requests.get(image[\"src\"])\n",
    "    img_res.raise_for_status()\n",
    "    \n",
    "    with open(\"movie{}.jpg\".format(idx+1), \"wb\") as f:\n",
    "        f.write(img_res.content)"
   ]
  },
  {
   "cell_type": "code",
   "execution_count": 15,
   "metadata": {},
   "outputs": [],
   "source": [
    "for year in range(2015,2021):\n",
    "    url = \"https://search.daum.net/search?w=tot&q={}%EB%85%84%EC%98%81%ED%99%94%EC%88%9C%EC%9C%84&DA=MOR&rtmaxcoll=MOR\".format(year)\n",
    "    res = requests.get(url)\n",
    "    res.raise_for_status()\n",
    "\n",
    "    soup = BeautifulSoup(res.text, \"lxml\")\n",
    "\n",
    "    images = soup.find_all(\"img\", attrs = {\"class\":\"thumb_img\"})\n",
    "\n",
    "    for idx, image in enumerate(images):\n",
    "        #print(image[\"src\"])\n",
    "        img_res = requests.get(image[\"src\"])\n",
    "        img_res.raise_for_status()\n",
    "\n",
    "        with open(\"movie{}_{}.jpg\".format(year, idx+1), \"wb\") as f:\n",
    "            f.write(img_res.content)\n",
    "\n",
    "        if idx >= 4: # 상위 4개 이미지까지만 다운로드\n",
    "            break"
   ]
  },
  {
   "cell_type": "code",
   "execution_count": null,
   "metadata": {},
   "outputs": [],
   "source": []
  }
 ],
 "metadata": {
  "kernelspec": {
   "display_name": "Python 3",
   "language": "python",
   "name": "python3"
  },
  "language_info": {
   "codemirror_mode": {
    "name": "ipython",
    "version": 3
   },
   "file_extension": ".py",
   "mimetype": "text/x-python",
   "name": "python",
   "nbconvert_exporter": "python",
   "pygments_lexer": "ipython3",
   "version": "3.8.3"
  }
 },
 "nbformat": 4,
 "nbformat_minor": 4
}
