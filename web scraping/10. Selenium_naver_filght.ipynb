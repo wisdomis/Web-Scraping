{
 "cells": [
  {
   "cell_type": "code",
   "execution_count": 1,
   "metadata": {},
   "outputs": [],
   "source": [
    "from selenium import webdriver\n",
    "from selenium.webdriver.common.keys import Keys"
   ]
  },
  {
   "cell_type": "code",
   "execution_count": 2,
   "metadata": {},
   "outputs": [],
   "source": [
    "browser = webdriver.Chrome()\n",
    "browser.maximize_window() # 창 최대화\n",
    "\n",
    "url = \"https://flight.naver.com/\"\n",
    "browser.get(url)"
   ]
  },
  {
   "cell_type": "code",
   "execution_count": 11,
   "metadata": {},
   "outputs": [
    {
     "name": "stderr",
     "output_type": "stream",
     "text": [
      "<ipython-input-11-7ed2634dfef8>:3: DeprecationWarning: find_element_by_* commands are deprecated. Please use find_element() instead\n",
      "  browser.find_element_by_class_name(\"tabContent_option__2y4c6\").click()\n",
      "<ipython-input-11-7ed2634dfef8>:7: DeprecationWarning: find_elements_by_* commands are deprecated. Please use find_elements() instead\n",
      "  browser.find_elements_by_class_name(\"sc-dIsUp\").find_elements_by_partial_link_text('14')[0].click()\n"
     ]
    },
    {
     "ename": "AttributeError",
     "evalue": "'list' object has no attribute 'find_elements_by_partial_link_text'",
     "output_type": "error",
     "traceback": [
      "\u001b[1;31m---------------------------------------------------------------------------\u001b[0m",
      "\u001b[1;31mAttributeError\u001b[0m                            Traceback (most recent call last)",
      "\u001b[1;32m<ipython-input-11-7ed2634dfef8>\u001b[0m in \u001b[0;36m<module>\u001b[1;34m\u001b[0m\n\u001b[0;32m      5\u001b[0m \u001b[1;31m# 가는 날과 오는 날 달력이 두개이기 때문에 가는 날은 첫번째 값을, 오는 날을 두번째 값을 선택\u001b[0m\u001b[1;33m\u001b[0m\u001b[1;33m\u001b[0m\u001b[1;33m\u001b[0m\u001b[0m\n\u001b[0;32m      6\u001b[0m \u001b[1;31m# 이번 달 12일 선택\u001b[0m\u001b[1;33m\u001b[0m\u001b[1;33m\u001b[0m\u001b[1;33m\u001b[0m\u001b[0m\n\u001b[1;32m----> 7\u001b[1;33m \u001b[0mbrowser\u001b[0m\u001b[1;33m.\u001b[0m\u001b[0mfind_elements_by_class_name\u001b[0m\u001b[1;33m(\u001b[0m\u001b[1;34m\"sc-dIsUp\"\u001b[0m\u001b[1;33m)\u001b[0m\u001b[1;33m.\u001b[0m\u001b[0mfind_elements_by_partial_link_text\u001b[0m\u001b[1;33m(\u001b[0m\u001b[1;34m'14'\u001b[0m\u001b[1;33m)\u001b[0m\u001b[1;33m[\u001b[0m\u001b[1;36m0\u001b[0m\u001b[1;33m]\u001b[0m\u001b[1;33m.\u001b[0m\u001b[0mclick\u001b[0m\u001b[1;33m(\u001b[0m\u001b[1;33m)\u001b[0m\u001b[1;33m\u001b[0m\u001b[1;33m\u001b[0m\u001b[0m\n\u001b[0m\u001b[0;32m      8\u001b[0m \u001b[1;31m# 이번 달 14일 선택\u001b[0m\u001b[1;33m\u001b[0m\u001b[1;33m\u001b[0m\u001b[1;33m\u001b[0m\u001b[0m\n\u001b[0;32m      9\u001b[0m \u001b[1;31m#browser.find_elements_by_link_text('20')[0].click()\u001b[0m\u001b[1;33m\u001b[0m\u001b[1;33m\u001b[0m\u001b[1;33m\u001b[0m\u001b[0m\n",
      "\u001b[1;31mAttributeError\u001b[0m: 'list' object has no attribute 'find_elements_by_partial_link_text'"
     ]
    }
   ],
   "source": [
    "# 1. 가는 날 클릭\n",
    "#browser.find_element_by_xpath(\"//*[@id='__next']/div/div[1]/div[4]/div/div/div[2]/div[2]/button[1]\").click()\n",
    "browser.find_element_by_class_name(\"tabContent_option__2y4c6\").click()\n",
    "\n",
    "# 가는 날과 오는 날 달력이 두개이기 때문에 가는 날은 첫번째 값을, 오는 날을 두번째 값을 선택\n",
    "# 이번 달 12일 선택\n",
    "browser.find_elements_by_class_name(\"sc-dIsUp\").find_elements_by_partial_link_text('14')[0].click()\n",
    "# 이번 달 14일 선택\n",
    "#browser.find_elements_by_link_text('20')[0].click()\n"
   ]
  },
  {
   "cell_type": "code",
   "execution_count": null,
   "metadata": {},
   "outputs": [],
   "source": [
    "# 1. 가는 날 클릭\n",
    "browser.find_element_by_xpath(\"//*[@id='__next']/div/div[1]/div[4]/div/div/div[2]/div[2]/button[1]\").click()\n",
    "\n",
    "# 가는 날과 오는 날 달력이 두개이기 때문에 가는 날은 첫번째 값을, 오는 날을 두번째 값을 선택\n",
    "\n",
    "# 이번 달 12일, 다음 달 14일\n",
    "browser.find_elements_by_xpath(\"\")[0].click() # \"12\"를 가지는 모든 element 중에 첫번째\n",
    "\n",
    "\n",
    "# 이번 달 14일 선택\n",
    "browser.find_elements_by_xpath(\"//*[@id='__next']/div/div[1]/div[10]/div[2]/div[1]/div[2]/div/div[2]/table/tbody/tr[3]/td[3]/button/b\")[0].click()\n"
   ]
  },
  {
   "cell_type": "code",
   "execution_count": 39,
   "metadata": {},
   "outputs": [
    {
     "name": "stderr",
     "output_type": "stream",
     "text": [
      "<ipython-input-39-a079c095e18b>:7: DeprecationWarning: find_element_by_* commands are deprecated. Please use find_element() instead\n",
      "  browser.find_element_by_xpath(\"//*[@id='__next']/div/div[1]/div[4]/div/div/div[2]/div[2]/button[1]\").click()\n",
      "<ipython-input-39-a079c095e18b>:9: DeprecationWarning: find_element_by_* commands are deprecated. Please use find_element() instead\n",
      "  browser.find_element_by_partial_link_text(\"12\").click()\n"
     ]
    }
   ],
   "source": [
    "browser = webdriver.Chrome()\n",
    "browser.maximize_window() # 창 최대화\n",
    "\n",
    "url = \"https://flight.naver.com/\"\n",
    "browser.get(url)\n",
    "\n",
    "browser.find_element_by_xpath(\"//*[@id='__next']/div/div[1]/div[4]/div/div/div[2]/div[2]/button[1]\").click()\n",
    "\n",
    "browser.find_element_by_partial_link_text(\"12\").click()"
   ]
  },
  {
   "cell_type": "code",
   "execution_count": null,
   "metadata": {},
   "outputs": [],
   "source": [
    "<b class=\"sc-dIsUp jEEywD num\">12</b>\n",
    "<b class=\"sc-dIsUp jEEywD num\">12</b>\n",
    "\n",
    "<b class=\"sc-dIsUp jEEywD num\">14</b>\n",
    "<b class=\"sc-dIsUp jEEywD num\">14</b>"
   ]
  },
  {
   "cell_type": "code",
   "execution_count": null,
   "metadata": {},
   "outputs": [],
   "source": []
  },
  {
   "cell_type": "code",
   "execution_count": null,
   "metadata": {},
   "outputs": [],
   "source": []
  }
 ],
 "metadata": {
  "kernelspec": {
   "display_name": "Python 3",
   "language": "python",
   "name": "python3"
  },
  "language_info": {
   "codemirror_mode": {
    "name": "ipython",
    "version": 3
   },
   "file_extension": ".py",
   "mimetype": "text/x-python",
   "name": "python",
   "nbconvert_exporter": "python",
   "pygments_lexer": "ipython3",
   "version": "3.8.3"
  }
 },
 "nbformat": 4,
 "nbformat_minor": 4
}
