{
 "cells": [
  {
   "cell_type": "code",
   "execution_count": 1,
   "metadata": {},
   "outputs": [
    {
     "name": "stderr",
     "output_type": "stream",
     "text": [
      "<ipython-input-1-d96cc43e8ccd>:13: DeprecationWarning: find_element_by_* commands are deprecated. Please use find_element() instead\n",
      "  detected_value = browser.find_element_by_id(\"detected_value\")\n"
     ]
    },
    {
     "name": "stdout",
     "output_type": "stream",
     "text": [
      "Mozilla/5.0 (Windows NT 10.0; Win64; x64) AppleWebKit/537.36 (KHTML, like Gecko) HeadlessChrome/96.0.4664.93 Safari/537.36\n"
     ]
    }
   ],
   "source": [
    "from selenium import webdriver\n",
    "\n",
    "options = webdriver.ChromeOptions()\n",
    "options.headless = True\n",
    "options.add_argument(\"window-size=1920x1080\")\n",
    "\n",
    "browser = webdriver.Chrome(options=options)\n",
    "browser.maximize_window()\n",
    "\n",
    "url = \"https://www.whatismybrowser.com/detect/what-is-my-user-agent\"\n",
    "browser.get(url)\n",
    "\n",
    "detected_value = browser.find_element_by_id(\"detected_value\")\n",
    "print(detected_value.text)\n",
    "browser.quit()"
   ]
  },
  {
   "cell_type": "markdown",
   "metadata": {},
   "source": [
    "- HeadlessChrome : 따로 유저설정을 하지 않은 경우 -> 서버 입장에선 브라우저 접속을 막을 수 있음\n",
    "- 이를 해결하기 위해 add_arguemnt에 user- agent 값을 추가함"
   ]
  },
  {
   "cell_type": "code",
   "execution_count": 2,
   "metadata": {},
   "outputs": [
    {
     "name": "stderr",
     "output_type": "stream",
     "text": [
      "<ipython-input-2-80bf56b4a75d>:18: DeprecationWarning: find_element_by_* commands are deprecated. Please use find_element() instead\n",
      "  detected_value = browser.find_element_by_id(\"detected_value\")\n"
     ]
    },
    {
     "name": "stdout",
     "output_type": "stream",
     "text": [
      "Mozilla/5.0 (Windows NT 10.0; Win64; x64) AppleWebKit/537.36 (KHTML, like Gecko) Chrome/96.0.4664.93 Safari/537.36\n"
     ]
    }
   ],
   "source": [
    "from selenium import webdriver\n",
    "\n",
    "options = webdriver.ChromeOptions()\n",
    "options.headless = True\n",
    "options.add_argument(\"window-size=1920x1080\")\n",
    "options.add_argument(\"user-agent=Mozilla/5.0 (Windows NT 10.0; Win64; x64) AppleWebKit/537.36 (KHTML, like Gecko) Chrome/96.0.4664.93 Safari/537.36\")\n",
    "\n",
    "browser = webdriver.Chrome(options=options)\n",
    "browser.maximize_window()\n",
    "\n",
    "url = \"https://www.whatismybrowser.com/detect/what-is-my-user-agent\"\n",
    "browser.get(url)\n",
    "\n",
    "detected_value = browser.find_element_by_id(\"detected_value\")\n",
    "print(detected_value.text)\n",
    "browser.quit()"
   ]
  },
  {
   "cell_type": "code",
   "execution_count": 1,
   "metadata": {},
   "outputs": [
    {
     "name": "stderr",
     "output_type": "stream",
     "text": [
      "C:\\Users\\seoyu\\anaconda3\\lib\\site-packages\\requests\\__init__.py:89: RequestsDependencyWarning: urllib3 (1.26.7) or chardet (3.0.4) doesn't match a supported version!\n",
      "  warnings.warn(\"urllib3 ({}) or chardet ({}) doesn't match a supported \"\n"
     ]
    },
    {
     "name": "stdout",
     "output_type": "stream",
     "text": [
      "스크롤 완료\n",
      "150\n",
      "제목 : 듄\n",
      "할인 전 금액 : US$24.99\n",
      "할인 된 금액 : US$5.99\n",
      "링크 : https://play.google.com/store/movies/details/%EB%93%84?id=r9FqbC-kvqs.P\n",
      "\n",
      "\n",
      "제목 : Last Night in Soho\n",
      "할인 전 금액 : US$19.99\n",
      "할인 된 금액 : US$5.99\n",
      "링크 : https://play.google.com/store/movies/details/Last_Night_in_Soho?id=7OmPbA-0Jaw.P\n",
      "\n",
      "\n",
      "제목 : Spencer\n",
      "할인 전 금액 : US$6.99\n",
      "할인 된 금액 : US$3.99\n",
      "링크 : https://play.google.com/store/movies/details/Spencer?id=Syv-16fUi2A.P\n",
      "\n",
      "\n",
      "제목 : 콰이어트 플레이스 2\n",
      "할인 전 금액 : US$4.99\n",
      "할인 된 금액 : US$2.99\n",
      "링크 : https://play.google.com/store/movies/details/%EC%BD%B0%EC%9D%B4%EC%96%B4%ED%8A%B8_%ED%94%8C%EB%A0%88%EC%9D%B4%EC%8A%A4_2?id=vO82xm8l-E4.P\n",
      "\n",
      "\n",
      "제목 : The Hating Game\n",
      "할인 전 금액 : US$6.99\n",
      "할인 된 금액 : US$3.99\n",
      "링크 : https://play.google.com/store/movies/details/The_Hating_Game?id=z2vIuzDx8Cw.P\n",
      "\n",
      "\n",
      "제목 : 스네이크 아이즈: 지.아이.조\n",
      "할인 전 금액 : US$4.99\n",
      "할인 된 금액 : US$2.99\n",
      "링크 : https://play.google.com/store/movies/details/%EC%8A%A4%EB%84%A4%EC%9D%B4%ED%81%AC_%EC%95%84%EC%9D%B4%EC%A6%88_%EC%A7%80_%EC%95%84%EC%9D%B4_%EC%A1%B0?id=h23JaCc87xk.P\n",
      "\n",
      "\n",
      "제목 : Spider-Man Trilogy\n",
      "할인 전 금액 : US$42.97\n",
      "할인 된 금액 : US$25.99\n",
      "링크 : https://play.google.com/store/movies/details/Spider_Man_Trilogy?id=ob-Rvy1kGTQ\n",
      "\n",
      "\n",
      "제목 : 말리그넌트\n",
      "할인 전 금액 : US$19.99\n",
      "할인 된 금액 : US$9.99\n",
      "링크 : https://play.google.com/store/movies/details/%EB%A7%90%EB%A6%AC%EA%B7%B8%EB%84%8C%ED%8A%B8?id=fHELUccpmQ4.P\n",
      "\n",
      "\n",
      "제목 : Amazing Spider Man Bundle\n",
      "할인 전 금액 : US$27.98\n",
      "할인 된 금액 : US$21.99\n",
      "링크 : https://play.google.com/store/movies/details/Amazing_Spider_Man_Bundle?id=hh1nL7uU8NU\n",
      "\n",
      "\n",
      "제목 : Cruella\n",
      "할인 전 금액 : US$5.99\n",
      "할인 된 금액 : US$3.99\n",
      "링크 : https://play.google.com/store/movies/details/Cruella?id=bzY-SBlFxWQ.P\n",
      "\n",
      "\n"
     ]
    }
   ],
   "source": [
    "from selenium import webdriver\n",
    "import requests\n",
    "from bs4 import BeautifulSoup\n",
    "\n",
    "options = webdriver.ChromeOptions()\n",
    "options.headless = True\n",
    "options.add_argument(\"window-size=1920x1080\")\n",
    "\n",
    "browser = webdriver.Chrome(options=options)\n",
    "browser.maximize_window()\n",
    "\n",
    "url = \"https://play.google.com/store/movies/collection/cluster?clp=0g4XChUKD3RvcHNlbGxpbmdfcGFpZBAHGAQ%3D:S:ANO1ljJvXQM&gsr=ChrSDhcKFQoPdG9wc2VsbGluZ19wYWlkEAcYBA%3D%3D:S:ANO1ljK7jAA&hl=ko&gl=US\"\n",
    "headers = {\n",
    "    \"User-Agent\":\"Mozilla/5.0 (Windows NT 10.0; Win64; x64) AppleWebKit/537.36 (KHTML, like Gecko) Chrome/96.0.4664.45 Safari/537.36\",\n",
    "    \"Accept-Language\":\"ko-KR,ko\"\n",
    "          }\n",
    "res = requests.get(url, headers = headers)\n",
    "res.raise_for_status()\n",
    "\n",
    "browser.get(url)\n",
    "\n",
    "import time\n",
    "interval = 2 # 2초에 한번씩 스크롤 내림\n",
    "# 현재 문서 높이를 가져와서 저장\n",
    "prev_height = browser.execute_script(\"return document.body.scrollHight\")\n",
    "\n",
    "# 반복 수행\n",
    "while True:\n",
    "    # 스크롤을 가장 아래로 내림\n",
    "    browser.execute_script(\"window.scrollTo(0,document.body.scrollHeight)\")\n",
    "    \n",
    "    # 페이지 로딩 대기\n",
    "    time.sleep(interval)\n",
    "    \n",
    "    # 현재 문서 높이를 가져와서 저장\n",
    "    curr_height = browser.execute_script(\"return document.body.scrollHegiht\")\n",
    "    \n",
    "    if curr_height == prev_height:\n",
    "        break\n",
    "    \n",
    "    prev_height = curr_height\n",
    "    \n",
    "print(\"스크롤 완료\")\n",
    "browser.get_screenshot_as_file(\"google_movie.png\")\n",
    "\n",
    "\n",
    "soup = BeautifulSoup(browser.page_source, \"lxml\")\n",
    "\n",
    "movies = soup.find_all(\"div\", attrs = {\"class\":\"Vpfmgd\"})\n",
    "print(len(movies))\n",
    "\n",
    "for movie in movies:\n",
    "    title = movie.find(\"div\", attrs={\"class\":\"WsMG1c nnK0zc\"}).get_text()\n",
    "    \n",
    "    # 할인 전 가격\n",
    "    origin_price = movie.find(\"span\", attrs = {\"class\":\"SUZt4c djCuy\"})\n",
    "    if origin_price:\n",
    "        origin_price = origin_price.get_text()\n",
    "    else:\n",
    "        #print(title, \"<할인 되지 않은 영화 제외>\")\n",
    "        continue\n",
    "    \n",
    "    # 할인 된 가격\n",
    "    discount_price = movie.find(\"span\", attrs = {\"class\":\"VfPpfd ZdBevf i5DZme\"}).get_text()\n",
    "    \n",
    "    # 링크\n",
    "    link = movie.find(\"a\", attrs = {\"class\":\"JC71ub\"})[\"href\"]\n",
    "    link = \"https://play.google.com\" + link\n",
    "    \n",
    "    print(f\"제목 : {title}\")\n",
    "    print(f\"할인 전 금액 : {origin_price}\")\n",
    "    print(f\"할인 된 금액 : {discount_price}\")\n",
    "    print(f\"링크 : {link}\")\n",
    "    print(\"\\n\")"
   ]
  }
 ],
 "metadata": {
  "kernelspec": {
   "display_name": "Python 3",
   "language": "python",
   "name": "python3"
  },
  "language_info": {
   "codemirror_mode": {
    "name": "ipython",
    "version": 3
   },
   "file_extension": ".py",
   "mimetype": "text/x-python",
   "name": "python",
   "nbconvert_exporter": "python",
   "pygments_lexer": "ipython3",
   "version": "3.8.3"
  }
 },
 "nbformat": 4,
 "nbformat_minor": 4
}
